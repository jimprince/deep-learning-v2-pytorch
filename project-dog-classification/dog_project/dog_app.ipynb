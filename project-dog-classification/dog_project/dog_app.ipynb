{
 "cells": [
  {
   "cell_type": "markdown",
   "metadata": {},
   "source": [
    "# Convolutional Neural Networks\n",
    "\n",
    "## Project: Write an Algorithm for a Dog Identification App \n",
    "\n",
    "---\n",
    "\n",
    "In this notebook, some template code has already been provided for you, and you will need to implement additional functionality to successfully complete this project. You will not need to modify the included code beyond what is requested. Sections that begin with **'(IMPLEMENTATION)'** in the header indicate that the following block of code will require additional functionality which you must provide. Instructions will be provided for each section, and the specifics of the implementation are marked in the code block with a 'TODO' statement. Please be sure to read the instructions carefully! \n",
    "\n",
    "> **Note**: Once you have completed all of the code implementations, you need to finalize your work by exporting the Jupyter Notebook as an HTML document. Before exporting the notebook to html, all of the code cells need to have been run so that reviewers can see the final implementation and output. You can then export the notebook by using the menu above and navigating to **File -> Download as -> HTML (.html)**. Include the finished document along with this notebook as your submission.\n",
    "\n",
    "In addition to implementing code, there will be questions that you must answer which relate to the project and your implementation. Each section where you will answer a question is preceded by a **'Question X'** header. Carefully read each question and provide thorough answers in the following text boxes that begin with **'Answer:'**. Your project submission will be evaluated based on your answers to each of the questions and the implementation you provide.\n",
    "\n",
    ">**Note:** Code and Markdown cells can be executed using the **Shift + Enter** keyboard shortcut.  Markdown cells can be edited by double-clicking the cell to enter edit mode.\n",
    "\n",
    "The rubric contains _optional_ \"Stand Out Suggestions\" for enhancing the project beyond the minimum requirements. If you decide to pursue the \"Stand Out Suggestions\", you should include the code in this Jupyter notebook.\n",
    "\n",
    "\n",
    "\n",
    "---\n",
    "### Why We're Here \n",
    "\n",
    "In this notebook, you will make the first steps towards developing an algorithm that could be used as part of a mobile or web app.  At the end of this project, your code will accept any user-supplied image as input.  If a dog is detected in the image, it will provide an estimate of the dog's breed.  If a human is detected, it will provide an estimate of the dog breed that is most resembling.  The image below displays potential sample output of your finished project (... but we expect that each student's algorithm will behave differently!). \n",
    "\n",
    "![Sample Dog Output](images/sample_dog_output.png)\n",
    "\n",
    "In this real-world setting, you will need to piece together a series of models to perform different tasks; for instance, the algorithm that detects humans in an image will be different from the CNN that infers dog breed.  There are many points of possible failure, and no perfect algorithm exists.  Your imperfect solution will nonetheless create a fun user experience!\n",
    "\n",
    "### The Road Ahead\n",
    "\n",
    "We break the notebook into separate steps.  Feel free to use the links below to navigate the notebook.\n",
    "\n",
    "* [Step 0](#step0): Import Datasets\n",
    "* [Step 1](#step1): Detect Humans\n",
    "* [Step 2](#step2): Detect Dogs\n",
    "* [Step 3](#step3): Create a CNN to Classify Dog Breeds (from Scratch)\n",
    "* [Step 4](#step4): Create a CNN to Classify Dog Breeds (using Transfer Learning)\n",
    "* [Step 5](#step5): Write your Algorithm\n",
    "* [Step 6](#step6): Test Your Algorithm\n",
    "\n",
    "---\n",
    "<a id='step0'></a>\n",
    "## Step 0: Import Datasets\n",
    "\n",
    "Make sure that you've downloaded the required human and dog datasets:\n",
    "* Download the [dog dataset](https://s3-us-west-1.amazonaws.com/udacity-aind/dog-project/dogImages.zip).  Unzip the folder and place it in this project's home directory, at the location `/dog_images`. \n",
    "\n",
    "* Download the [human dataset](https://s3-us-west-1.amazonaws.com/udacity-aind/dog-project/lfw.zip).  Unzip the folder and place it in the home directory, at location `/lfw`.  \n",
    "\n",
    "*Note: If you are using a Windows machine, you are encouraged to use [7zip](http://www.7-zip.org/) to extract the folder.*\n",
    "\n",
    "In the code cell below, we save the file paths for both the human (LFW) dataset and dog dataset in the numpy arrays `human_files` and `dog_files`."
   ]
  },
  {
   "cell_type": "code",
   "execution_count": null,
   "metadata": {},
   "outputs": [],
   "source": [
    "!curl -O \"https://raw.githubusercontent.com/udacity/workspaces-student-support/master/jupyter/workspace_utils.py\""
   ]
  },
  {
   "cell_type": "code",
   "execution_count": 78,
   "metadata": {},
   "outputs": [],
   "source": [
    "# !wget \"http://www.dunescience.org/facesofdune/wp-content/uploads/2018/09/18-0090-10.jpg\"\n",
    "# !wget \"http://www.dunescience.org/facesofdune/wp-content/uploads/2018/09/18-0090-06.jpg\"\n",
    "# !wget \"https://static.skillshare.com/uploads/parentClasses/9d62dfcf177187fcc372252f077561d1/3e93faaa\"\n",
    "# !mv 3e93faaa 3293faaa.jpg\n",
    "# !wget \"http://www.animalslook.com/media/famous-hollywood-stars-and-other-famous-dogs-in-history-10-pictures/famous-hollywood-stars-and-other-famous-dogs-in-history-10-pictures-6.jpg\"\n",
    "# !wget \"http://elelur.com/data_images/articles/famous-dogs-in-history.jpg\"\n",
    "# !wget \"https://s3.amazonaws.com/pq-imgs/images/quizzes/scooby-famous-dog.-14329.jpg\""
   ]
  },
  {
   "cell_type": "code",
   "execution_count": 82,
   "metadata": {},
   "outputs": [],
   "source": [
    "!mkdir test_images\n",
    "!mv *.jpg test_images/"
   ]
  },
  {
   "cell_type": "code",
   "execution_count": null,
   "metadata": {},
   "outputs": [],
   "source": [
    "!pip install gdown==3.6.0"
   ]
  },
  {
   "cell_type": "code",
   "execution_count": null,
   "metadata": {},
   "outputs": [],
   "source": [
    "def gdown(id):\n",
    "    my_file_id = id.split(\"?\")[-1][3:]\n",
    "    !gdown https://drive.google.com/uc?id={my_file_id} "
   ]
  },
  {
   "cell_type": "code",
   "execution_count": null,
   "metadata": {},
   "outputs": [],
   "source": [
    "from workspace_utils import active_session"
   ]
  },
  {
   "cell_type": "code",
   "execution_count": null,
   "metadata": {},
   "outputs": [],
   "source": [
    "links = []\n",
    "links.append() = \"https://drive.google.com/open?id=1EIDN4BP0VjuOwdsEWld-_BmO2cVwlh3d\"\n",
    "links.append() = \"https://drive.google.com/open?id=1--YDzM_NHozgsw2ymrOJIS86L8ulsVup\"\n",
    "links.append() = \"https://drive.google.com/open?id=1-2WP-BU_01cmiH-eGOLaCAjkeYTPyfg4\"\n",
    "links.append() = \"https://drive.google.com/open?id=1-2NlgSQj9LeiP5s3puH3MlIog-xTxCxc\"\n",
    "\n",
    "for link in links[-1]:\n",
    "    gdown(link)"
   ]
  },
  {
   "cell_type": "code",
   "execution_count": null,
   "metadata": {},
   "outputs": [],
   "source": [
    "import os\n",
    "# !cd /content\n",
    "files = [\"dogImages.zip\"]#,\"lfw.zip\"]\n",
    "for file in files:\n",
    "  if not os.path.isfile(file):\n",
    "    !wget https://s3-us-west-1.amazonaws.com/udacity-aind/dog-project/{file}\n",
    "!unzip -q dogImages.zip\n",
    "!unzip -q lfw.zip"
   ]
  },
  {
   "cell_type": "code",
   "execution_count": null,
   "metadata": {
    "scrolled": true
   },
   "outputs": [],
   "source": [
    "!ls /data/"
   ]
  },
  {
   "cell_type": "code",
   "execution_count": 1,
   "metadata": {},
   "outputs": [],
   "source": [
    "project_path = \"/data/\""
   ]
  },
  {
   "cell_type": "code",
   "execution_count": 2,
   "metadata": {},
   "outputs": [
    {
     "name": "stdout",
     "output_type": "stream",
     "text": [
      "There are 13233 total human images.\n",
      "There are 8351 total dog images.\n"
     ]
    }
   ],
   "source": [
    "import numpy as np\n",
    "from glob import glob\n",
    "\n",
    "# load filenames for human and dog images\n",
    "human_files = np.array(glob(\"/data/lfw/*/*\"))\n",
    "dog_files = np.array(glob(\"/data/dog_images/*/*/*\"))\n",
    "\n",
    "# print number of images in each dataset\n",
    "print('There are %d total human images.' % len(human_files))\n",
    "print('There are %d total dog images.' % len(dog_files))"
   ]
  },
  {
   "cell_type": "markdown",
   "metadata": {},
   "source": [
    "<a id='step1'></a>\n",
    "## Step 1: Detect Humans\n",
    "\n",
    "In this section, we use OpenCV's implementation of [Haar feature-based cascade classifiers](http://docs.opencv.org/trunk/d7/d8b/tutorial_py_face_detection.html) to detect human faces in images.  \n",
    "\n",
    "OpenCV provides many pre-trained face detectors, stored as XML files on [github](https://github.com/opencv/opencv/tree/master/data/haarcascades).  We have downloaded one of these detectors and stored it in the `haarcascades` directory.  In the next code cell, we demonstrate how to use this detector to find human faces in a sample image."
   ]
  },
  {
   "cell_type": "code",
   "execution_count": 3,
   "metadata": {},
   "outputs": [
    {
     "name": "stdout",
     "output_type": "stream",
     "text": [
      "Number of faces detected: 1\n"
     ]
    },
    {
     "data": {
      "image/png": "[encoded data removed]",
      "text/plain": [
       "<matplotlib.figure.Figure at 0x7f7998f27f98>"
      ]
     },
     "metadata": {
      "needs_background": "light"
     },
     "output_type": "display_data"
    }
   ],
   "source": [
    "import cv2                \n",
    "import matplotlib.pyplot as plt                        \n",
    "%matplotlib inline                               \n",
    "\n",
    "# extract pre-trained face detector\n",
    "face_cascade = cv2.CascadeClassifier('haarcascades/haarcascade_frontalface_alt.xml')\n",
    "\n",
    "# load color (BGR) image\n",
    "img = cv2.imread(human_files[0])\n",
    "# convert BGR image to grayscale\n",
    "gray = cv2.cvtColor(img, cv2.COLOR_BGR2GRAY)\n",
    "\n",
    "# find faces in image\n",
    "faces = face_cascade.detectMultiScale(gray)\n",
    "\n",
    "# print number of faces detected in the image\n",
    "print('Number of faces detected:', len(faces))\n",
    "\n",
    "# get bounding box for each detected face\n",
    "for (x,y,w,h) in faces:\n",
    "    # add bounding box to color image\n",
    "    cv2.rectangle(img,(x,y),(x+w,y+h),(255,0,0),2)\n",
    "    \n",
    "# convert BGR image to RGB for plotting\n",
    "cv_rgb = cv2.cvtColor(img, cv2.COLOR_BGR2RGB)\n",
    "\n",
    "# display the image, along with bounding box\n",
    "plt.imshow(cv_rgb)\n",
    "plt.show()"
   ]
  },
  {
   "cell_type": "markdown",
   "metadata": {},
   "source": [
    "Before using any of the face detectors, it is standard procedure to convert the images to grayscale.  The `detectMultiScale` function executes the classifier stored in `face_cascade` and takes the grayscale image as a parameter.  \n",
    "\n",
    "In the above code, `faces` is a numpy array of detected faces, where each row corresponds to a detected face.  Each detected face is a 1D array with four entries that specifies the bounding box of the detected face.  The first two entries in the array (extracted in the above code as `x` and `y`) specify the horizontal and vertical positions of the top left corner of the bounding box.  The last two entries in the array (extracted here as `w` and `h`) specify the width and height of the box.\n",
    "\n",
    "### Write a Human Face Detector\n",
    "\n",
    "We can use this procedure to write a function that returns `True` if a human face is detected in an image and `False` otherwise.  This function, aptly named `face_detector`, takes a string-valued file path to an image as input and appears in the code block below."
   ]
  },
  {
   "cell_type": "code",
   "execution_count": 4,
   "metadata": {},
   "outputs": [],
   "source": [
    "# returns \"True\" if face is detected in image stored at img_path\n",
    "def face_detector(img_path):\n",
    "    img = cv2.imread(img_path)\n",
    "    gray = cv2.cvtColor(img, cv2.COLOR_BGR2GRAY)\n",
    "    faces = face_cascade.detectMultiScale(gray)\n",
    "    return len(faces) > 0"
   ]
  },
  {
   "cell_type": "markdown",
   "metadata": {},
   "source": [
    "### (IMPLEMENTATION) Assess the Human Face Detector\n",
    "\n",
    "__Question 1:__ Use the code cell below to test the performance of the `face_detector` function.  \n",
    "- What percentage of the first 100 images in `human_files` have a detected human face?  \n",
    "- What percentage of the first 100 images in `dog_files` have a detected human face? \n",
    "\n",
    "Ideally, we would like 100% of human images with a detected face and 0% of dog images with a detected face.  You will see that our algorithm falls short of this goal, but still gives acceptable performance.  We extract the file paths for the first 100 images from each of the datasets and store them in the numpy arrays `human_files_short` and `dog_files_short`."
   ]
  },
  {
   "cell_type": "markdown",
   "metadata": {},
   "source": [
    "__Answer:__ \n",
    "(You can print out your results and/or write your percentages in this cell)"
   ]
  },
  {
   "cell_type": "code",
   "execution_count": 5,
   "metadata": {},
   "outputs": [],
   "source": [
    "def face_show(path):\n",
    "  # load color (BGR) image\n",
    "  img = cv2.imread(path)\n",
    "  # convert BGR image to grayscale\n",
    "  gray = cv2.cvtColor(img, cv2.COLOR_BGR2GRAY)\n",
    "\n",
    "  # find faces in image\n",
    "  faces = face_cascade.detectMultiScale(gray)\n",
    "\n",
    "  # print number of faces detected in the image\n",
    "  print('Number of faces detected:', len(faces))\n",
    "\n",
    "  # get bounding box for each detected face\n",
    "  if len(faces) > 0:\n",
    "    for (x,y,w,h) in faces:\n",
    "        # add bounding box to color image\n",
    "        cv2.rectangle(img,(x,y),(x+w,y+h),(255,0,0),2)\n",
    "\n",
    "  # convert BGR image to RGB for plotting\n",
    "  cv_rgb = cv2.cvtColor(img, cv2.COLOR_BGR2RGB)\n",
    "\n",
    "  # display the image, along with bounding box\n",
    "  plt.imshow(cv_rgb)\n",
    "  plt.show()"
   ]
  },
  {
   "cell_type": "code",
   "execution_count": 7,
   "metadata": {},
   "outputs": [
    {
     "name": "stderr",
     "output_type": "stream",
     "text": [
      "100%|██████████| 100/100 [00:02<00:00, 39.62it/s]\n",
      "100%|██████████| 100/100 [00:27<00:00,  7.65it/s]"
     ]
    },
    {
     "name": "stdout",
     "output_type": "stream",
     "text": [
      "\n",
      "Percent of human pictures with human facesin them: 98%\n",
      "Percent of dog pictures with human faces in them: 17%\n"
     ]
    },
    {
     "name": "stderr",
     "output_type": "stream",
     "text": [
      "\n"
     ]
    }
   ],
   "source": [
    "from tqdm import tqdm\n",
    "\n",
    "human_files_short = human_files[:100]\n",
    "dog_files_short = dog_files[:100]\n",
    "\n",
    "#-#-# Do NOT modify the code above this line. #-#-#\n",
    "\n",
    "## TODO: Test the performance of the face_detector algorithm \n",
    "## on the images in human_files_short and dog_files_short.\n",
    "num_human = 0\n",
    "num_human_in_dog = 0\n",
    "for human in tqdm(human_files_short):\n",
    "  if face_detector(human):\n",
    "    num_human += 1\n",
    "  else:\n",
    "      pass\n",
    "#     face_show(human)\n",
    "\n",
    "for dog in tqdm(dog_files_short):\n",
    "  if face_detector(dog):\n",
    "    num_human_in_dog += 1\n",
    "#     face_show(dog)\n",
    "    \n",
    "print(f'\\nPercent of human pictures with human facesin them: {num_human}%\\nPercent of dog pictures with human faces in them: {num_human_in_dog}%')\n",
    "    \n"
   ]
  },
  {
   "cell_type": "markdown",
   "metadata": {},
   "source": [
    "We suggest the face detector from OpenCV as a potential way to detect human images in your algorithm, but you are free to explore other approaches, especially approaches that make use of deep learning :).  Please use the code cell below to design and test your own face detection algorithm.  If you decide to pursue this _optional_ task, report performance on `human_files_short` and `dog_files_short`."
   ]
  },
  {
   "cell_type": "code",
   "execution_count": null,
   "metadata": {},
   "outputs": [],
   "source": [
    "### (Optional) \n",
    "### TODO: Test performance of anotherface detection algorithm.\n",
    "### Feel free to use as many code cells as needed."
   ]
  },
  {
   "cell_type": "markdown",
   "metadata": {},
   "source": [
    "---\n",
    "<a id='step2'></a>\n",
    "## Step 2: Detect Dogs\n",
    "\n",
    "In this section, we use a [pre-trained model](http://pytorch.org/docs/master/torchvision/models.html) to detect dogs in images.  \n",
    "\n",
    "### Obtain Pre-trained VGG-16 Model\n",
    "\n",
    "The code cell below downloads the VGG-16 model, along with weights that have been trained on [ImageNet](http://www.image-net.org/), a very large, very popular dataset used for image classification and other vision tasks.  ImageNet contains over 10 million URLs, each linking to an image containing an object from one of [1000 categories](https://gist.github.com/yrevar/942d3a0ac09ec9e5eb3a).  "
   ]
  },
  {
   "cell_type": "code",
   "execution_count": 8,
   "metadata": {},
   "outputs": [
    {
     "name": "stderr",
     "output_type": "stream",
     "text": [
      "Downloading: \"https://download.pytorch.org/models/vgg16-397923af.pth\" to /root/.torch/models/vgg16-397923af.pth\n",
      "100%|██████████| 553433881/553433881 [00:05<00:00, 99583930.04it/s] \n"
     ]
    }
   ],
   "source": [
    "import torch\n",
    "import torchvision.models as models\n",
    "\n",
    "# define VGG16 model\n",
    "VGG16 = models.vgg16(pretrained=True)\n",
    "\n",
    "# check if CUDA is available\n",
    "use_cuda = torch.cuda.is_available()\n",
    "\n",
    "# move model to GPU if CUDA is available\n",
    "if use_cuda:\n",
    "    VGG16 = VGG16.cuda()"
   ]
  },
  {
   "cell_type": "markdown",
   "metadata": {},
   "source": [
    "Given an image, this pre-trained VGG-16 model returns a prediction (derived from the 1000 possible categories in ImageNet) for the object that is contained in the image."
   ]
  },
  {
   "cell_type": "markdown",
   "metadata": {},
   "source": [
    "### (IMPLEMENTATION) Making Predictions with a Pre-trained Model\n",
    "\n",
    "In the next code cell, you will write a function that accepts a path to an image (such as `'dogImages/train/001.Affenpinscher/Affenpinscher_00001.jpg'`) as input and returns the index corresponding to the ImageNet class that is predicted by the pre-trained VGG-16 model.  The output should always be an integer between 0 and 999, inclusive.\n",
    "\n",
    "Before writing the function, make sure that you take the time to learn  how to appropriately pre-process tensors for pre-trained models in the [PyTorch documentation](http://pytorch.org/docs/stable/torchvision/models.html)."
   ]
  },
  {
   "cell_type": "code",
   "execution_count": 10,
   "metadata": {},
   "outputs": [
    {
     "name": "stdout",
     "output_type": "stream",
     "text": [
      "/data/dog_images/train/103.Mastiff/Mastiff_06818.jpg\n"
     ]
    },
    {
     "data": {
      "text/plain": [
       "tensor([ 243], device='cuda:0')"
      ]
     },
     "execution_count": 10,
     "metadata": {},
     "output_type": "execute_result"
    }
   ],
   "source": [
    "from PIL import Image\n",
    "import torchvision.transforms as transforms\n",
    "import torch.nn.functional as F\n",
    "\n",
    "valid_transforms = transforms.Compose([transforms.Resize((224,224)),\n",
    "                                  transforms.CenterCrop(224),\n",
    "                                  transforms.ToTensor(),\n",
    "                                  transforms.Normalize([0.485, 0.456, 0.406],\n",
    "                                                       [0.229, 0.224, 0.225])])\n",
    "\n",
    "def VGG16_predict(img_path):\n",
    "    '''\n",
    "    Use pre-trained VGG-16 model to obtain index corresponding to \n",
    "    predicted ImageNet class for image at specified path\n",
    "    \n",
    "    Args:\n",
    "        img_path: path to an image\n",
    "        \n",
    "    Returns:\n",
    "        Index corresponding to VGG-16 model's prediction\n",
    "    '''\n",
    "    \n",
    "    ## TODO: Complete the function.\n",
    "    ## Load and pre-process an image from the given img_path\n",
    "    ## Return the *index* of the predicted class for that image\n",
    "    VGG16.cuda()\n",
    "    img = Image.open(img_path)\n",
    "    img = valid_transforms(img).float()\n",
    "    img = torch.autograd.Variable(img, requires_grad=False)\n",
    "    img = img.unsqueeze(0)\n",
    "    img = img.cuda()\n",
    "    out = VGG16(img)\n",
    "    ps = F.softmax(out, dim=1)\n",
    "    top_p, top_k = ps.topk(1, dim=1)\n",
    "    top_k = top_k.view(-1,)\n",
    "    return top_k # predicted class index\n",
    "  \n",
    "import random\n",
    "\n",
    "spot = random.randint(0, 99)\n",
    "print(dog_files_short[spot])\n",
    "VGG16_predict(dog_files_short[spot])"
   ]
  },
  {
   "cell_type": "markdown",
   "metadata": {},
   "source": [
    "### (IMPLEMENTATION) Write a Dog Detector\n",
    "\n",
    "While looking at the [dictionary](https://gist.github.com/yrevar/942d3a0ac09ec9e5eb3a), you will notice that the categories corresponding to dogs appear in an uninterrupted sequence and correspond to dictionary keys 151-268, inclusive, to include all categories from `'Chihuahua'` to `'Mexican hairless'`.  Thus, in order to check to see if an image is predicted to contain a dog by the pre-trained VGG-16 model, we need only check if the pre-trained model predicts an index between 151 and 268 (inclusive).\n",
    "\n",
    "Use these ideas to complete the `dog_detector` function below, which returns `True` if a dog is detected in an image (and `False` if not)."
   ]
  },
  {
   "cell_type": "code",
   "execution_count": 11,
   "metadata": {},
   "outputs": [],
   "source": [
    "#referenced code from: https://discuss.pytorch.org/t/how-to-classify-single-image-using-loaded-net/1411\n",
    "\n",
    "### returns \"True\" if a dog is detected in the image stored at img_path\n",
    "def dog_detector(img_path):\n",
    "    ## TODO: Complete the function.\n",
    "    p = VGG16_predict(img_path)\n",
    "    if (p >=151) and (p<=268):\n",
    "      return True \n",
    "    else:\n",
    "      return False"
   ]
  },
  {
   "cell_type": "markdown",
   "metadata": {},
   "source": [
    "### (IMPLEMENTATION) Assess the Dog Detector\n",
    "\n",
    "__Question 2:__ Use the code cell below to test the performance of your `dog_detector` function.  \n",
    "- What percentage of the images in `human_files_short` have a detected dog?  \n",
    "- What percentage of the images in `dog_files_short` have a detected dog?"
   ]
  },
  {
   "cell_type": "markdown",
   "metadata": {},
   "source": [
    "__Answer:__ \n"
   ]
  },
  {
   "cell_type": "code",
   "execution_count": 12,
   "metadata": {},
   "outputs": [
    {
     "name": "stderr",
     "output_type": "stream",
     "text": [
      "100%|██████████| 100/100 [00:03<00:00, 29.39it/s]\n",
      "100%|██████████| 100/100 [00:04<00:00, 21.09it/s]"
     ]
    },
    {
     "name": "stdout",
     "output_type": "stream",
     "text": [
      "\n",
      "Percentage of human pictures with dogs in them: 1%\n",
      "Percentage of dogs pictures with dogs in them: 100%\n"
     ]
    },
    {
     "name": "stderr",
     "output_type": "stream",
     "text": [
      "\n"
     ]
    }
   ],
   "source": [
    "### TODO: Test the performance of the dog_detector function\n",
    "### on the images in human_files_short and dog_files_short.\n",
    "from tqdm import tqdm\n",
    "\n",
    "human_files_short = human_files[:100]\n",
    "dog_files_short = dog_files[:100]\n",
    "\n",
    "#-#-# Do NOT modify the code above this line. #-#-#\n",
    "\n",
    "## TODO: Test the performance of the face_detector algorithm \n",
    "## on the images in human_files_short and dog_files_short.\n",
    "num_dog = 0\n",
    "num_dog_in_human = 0\n",
    "for human in tqdm(human_files_short):\n",
    "  if dog_detector(human):\n",
    "    num_dog_in_human += 1\n",
    "  else:\n",
    "      pass\n",
    "#     face_show(human)\n",
    "\n",
    "for dog in tqdm(dog_files_short):\n",
    "  if dog_detector(dog):\n",
    "    num_dog += 1\n",
    "#     face_show(dog)\n",
    "    \n",
    "print(f'\\nPercentage of human pictures with dogs in them: {num_dog_in_human}%\\nPercentage of dogs pictures with dogs in them: {num_dog}%')\n",
    "    "
   ]
  },
  {
   "cell_type": "markdown",
   "metadata": {},
   "source": [
    "We suggest VGG-16 as a potential network to detect dog images in your algorithm, but you are free to explore other pre-trained networks (such as [Inception-v3](http://pytorch.org/docs/master/torchvision/models.html#inception-v3), [ResNet-50](http://pytorch.org/docs/master/torchvision/models.html#id3), etc).  Please use the code cell below to test other pre-trained PyTorch models.  If you decide to pursue this _optional_ task, report performance on `human_files_short` and `dog_files_short`."
   ]
  },
  {
   "cell_type": "code",
   "execution_count": null,
   "metadata": {},
   "outputs": [],
   "source": [
    "### (Optional) \n",
    "### TODO: Report the performance of another pre-trained network.\n",
    "### Feel free to use as many code cells as needed."
   ]
  },
  {
   "cell_type": "markdown",
   "metadata": {},
   "source": [
    "---\n",
    "<a id='step3'></a>\n",
    "## Step 3: Create a CNN to Classify Dog Breeds (from Scratch)\n",
    "\n",
    "Now that we have functions for detecting humans and dogs in images, we need a way to predict breed from images.  In this step, you will create a CNN that classifies dog breeds.  You must create your CNN _from scratch_ (so, you can't use transfer learning _yet_!), and you must attain a test accuracy of at least 10%.  In Step 4 of this notebook, you will have the opportunity to use transfer learning to create a CNN that attains greatly improved accuracy.\n",
    "\n",
    "We mention that the task of assigning breed to dogs from images is considered exceptionally challenging.  To see why, consider that *even a human* would have trouble distinguishing between a Brittany and a Welsh Springer Spaniel.  \n",
    "\n",
    "Brittany | Welsh Springer Spaniel\n",
    "- | - \n",
    "<img src=\"images/Brittany_02625.jpg\" width=\"100\"> | <img src=\"images/Welsh_springer_spaniel_08203.jpg\" width=\"200\">\n",
    "\n",
    "It is not difficult to find other dog breed pairs with minimal inter-class variation (for instance, Curly-Coated Retrievers and American Water Spaniels).  \n",
    "\n",
    "Curly-Coated Retriever | American Water Spaniel\n",
    "- | -\n",
    "<img src=\"images/Curly-coated_retriever_03896.jpg\" width=\"200\"> | <img src=\"images/American_water_spaniel_00648.jpg\" width=\"200\">\n",
    "\n",
    "\n",
    "Likewise, recall that labradors come in yellow, chocolate, and black.  Your vision-based algorithm will have to conquer this high intra-class variation to determine how to classify all of these different shades as the same breed.  \n",
    "\n",
    "Yellow Labrador | Chocolate Labrador | Black Labrador\n",
    "- | -\n",
    "<img src=\"images/Labrador_retriever_06457.jpg\" width=\"150\"> | <img src=\"images/Labrador_retriever_06455.jpg\" width=\"240\"> | <img src=\"images/Labrador_retriever_06449.jpg\" width=\"220\">\n",
    "\n",
    "We also mention that random chance presents an exceptionally low bar: setting aside the fact that the classes are slightly imabalanced, a random guess will provide a correct answer roughly 1 in 133 times, which corresponds to an accuracy of less than 1%.  \n",
    "\n",
    "Remember that the practice is far ahead of the theory in deep learning.  Experiment with many different architectures, and trust your intuition.  And, of course, have fun!\n",
    "\n",
    "### (IMPLEMENTATION) Specify Data Loaders for the Dog Dataset\n",
    "\n",
    "Use the code cell below to write three separate [data loaders](http://pytorch.org/docs/stable/data.html#torch.utils.data.DataLoader) for the training, validation, and test datasets of dog images (located at `dog_images/train`, `dog_images/valid`, and `dog_images/test`, respectively).  You may find [this documentation on custom datasets](http://pytorch.org/docs/stable/torchvision/datasets.html) to be a useful resource.  If you are interested in augmenting your training and/or validation data, check out the wide variety of [transforms](http://pytorch.org/docs/stable/torchvision/transforms.html?highlight=transform)!"
   ]
  },
  {
   "cell_type": "code",
   "execution_count": 15,
   "metadata": {},
   "outputs": [],
   "source": [
    "from torchvision import datasets, transforms\n",
    "import torch.nn as nn\n",
    "import torch.nn.functional as F\n",
    "import torch.optim as optim\n",
    "import torch\n",
    "import numpy as np\n",
    "import os\n",
    "import pandas as pd\n",
    "\n",
    "from tqdm import tqdm\n",
    "# from https://stackoverflow.com/questions/12984426/python-pil-ioerror-image-file-truncated-with-big-images \n",
    "# to deal with truncated images\n",
    "from PIL import ImageFile\n",
    "ImageFile.LOAD_TRUNCATED_IMAGES = True\n",
    "\n",
    "use_cuda = True\n",
    "# project_path = \"/content/deep-learning-v2-pytorch/project-dog-classification/\"\n",
    "version_number = \"13_1\"\n",
    "file_path = \"model_scratch_\" + version_number + \".pt\"\n",
    "\n",
    "csv_path = file_path.split(\".\")[0] + \".csv\"\n",
    "optim_path = file_path.split(\".\")[0] + \".opt\""
   ]
  },
  {
   "cell_type": "code",
   "execution_count": 58,
   "metadata": {},
   "outputs": [
    {
     "name": "stdout",
     "output_type": "stream",
     "text": [
      "Loading Data...\n",
      "Defining Transforms\n",
      "Creating Datasets \n"
     ]
    }
   ],
   "source": [
    "batch_size = 128\n",
    "\n",
    "print(f'Loading Data...')\n",
    "train_dir = '/data/dog_images/train'\n",
    "valid_dir = '/data/dog_images/valid'\n",
    "test_dir = '/data/dog_images/test'\n",
    "\n",
    "\n",
    "#Define the transforms for the training, validation, and testing sets\n",
    "print(f'Defining Transforms')\n",
    "train_transforms = transforms.Compose([transforms.RandomRotation(20),\n",
    "                                   transforms.RandomResizedCrop(224),\n",
    "                                   transforms.RandomHorizontalFlip(),\n",
    "                                   transforms.ToTensor(),\n",
    "                                   transforms.Normalize([0.485, 0.456, 0.406],\n",
    "                                                        [0.229, 0.224, 0.225])])\n",
    "\n",
    "valid_transforms = transforms.Compose([transforms.Resize((224,224)),\n",
    "                                  transforms.CenterCrop(224),\n",
    "                                  transforms.ToTensor(),\n",
    "                                  transforms.Normalize([0.485, 0.456, 0.406],\n",
    "                                                       [0.229, 0.224, 0.225])])\n",
    "\n",
    "test_transforms = transforms.Compose([transforms.Resize((224,224)),\n",
    "                                  transforms.CenterCrop(224),\n",
    "                                  transforms.ToTensor(),\n",
    "                                  transforms.Normalize([0.485, 0.456, 0.406],\n",
    "                                                       [0.229, 0.224, 0.225])])\n",
    "print(f'Creating Datasets ')\n",
    "#Load the datasets with ImageFolder\n",
    "train_data = datasets.ImageFolder(train_dir, transform=train_transforms)\n",
    "test_data = datasets.ImageFolder(test_dir, transform=test_transforms)\n",
    "valid_data = datasets.ImageFolder(valid_dir, transform=valid_transforms)\n",
    "\n",
    "\n",
    "trainloader = torch.utils.data.DataLoader(train_data, batch_size=batch_size, shuffle=True)\n",
    "testloader = torch.utils.data.DataLoader(test_data, batch_size=batch_size, shuffle=True)\n",
    "validloader = torch.utils.data.DataLoader(valid_data, batch_size=batch_size, shuffle=True)"
   ]
  },
  {
   "cell_type": "markdown",
   "metadata": {},
   "source": [
    "**Question 3:** Describe your chosen procedure for preprocessing the data. \n",
    "- How does your code resize the images (by cropping, stretching, etc)?  What size did you pick for the input tensor, and why?\n",
    "- Did you decide to augment the dataset?  If so, how (through translations, flips, rotations, etc)?  If not, why not?\n"
   ]
  },
  {
   "cell_type": "markdown",
   "metadata": {},
   "source": [
    "**How does your code resize the images (by cropping, stretching, etc)? What size did you pick for the input tensor, and why?**\n",
    "\n",
    "My code resizes the training data with a random resize crop, which will output images with both translational and scale variance. For validation and test data the data is only scaled and center-cropped in order to best evaluate testing on naive datasets.\n",
    "\n",
    "My input tensor is 224x224, I picked this because my research suggested this to be the size of input preferred by the VGG16 network.\n",
    "\n",
    "**Did you decide to augment the dataset? If so, how (through translations, flips, rotations, etc)? If not, why not?**\n",
    "\n",
    "I chose to use rotation, random resized crop and random horizontal flip to augment the training data. I did not augment the validation and test datasets."
   ]
  },
  {
   "cell_type": "markdown",
   "metadata": {},
   "source": [
    "### (IMPLEMENTATION) Model Architecture\n",
    "\n",
    "Create a CNN to classify dog breed.  Use the template in the code cell below."
   ]
  },
  {
   "cell_type": "code",
   "execution_count": 17,
   "metadata": {},
   "outputs": [],
   "source": [
    "# define the CNN architecture\n",
    "class Net(nn.Module):\n",
    "    ### TODO: choose an architecture, and complete the class\n",
    "    def __init__(self):\n",
    "        super(Net, self).__init__()\n",
    "        ## Define layers of a CNN\n",
    "        self.conv1 = nn.Conv2d(3, 16, 3, padding = 1)\n",
    "        self.conv1_bn = nn.BatchNorm2d(16) \n",
    "        self.conv2 = nn.Conv2d(16, 32, 3, padding = 1)\n",
    "        self.conv2_bn = nn.BatchNorm2d(32) \n",
    "        self.conv3 = nn.Conv2d(32, 64, 3, padding = 1)\n",
    "        self.conv3_bn = nn.BatchNorm2d(64) \n",
    "        self.maxpoola = nn.MaxPool2d(2)\n",
    "        self.maxpoolb = nn.MaxPool2d(4)\n",
    "        \n",
    "        self.fc1 = nn.Linear(7*7*64, 64)\n",
    "        self.out = nn.Linear(64, 133)    \n",
    "        self.batch_norm = nn.BatchNorm1d(num_features=64)\n",
    "        self.dropout = nn.Dropout(p=0.5)\n",
    "    \n",
    "    def forward(self, x):\n",
    "        ## Define forward behavior\n",
    "        x = F.relu(self.conv1(x))\n",
    "        x = self.maxpoola(x)\n",
    "        x = self.conv1_bn(x)\n",
    "        x = F.relu(self.conv2(x))\n",
    "        x = self.maxpoolb(x)\n",
    "        x = self.conv2_bn(x)\n",
    "        x = F.relu(self.conv3(x))\n",
    "        x = self.maxpoolb(x)\n",
    "        x = self.conv3_bn(x)\n",
    "        \n",
    "        x = x.view(x.size(0), -1)\n",
    "        x = self.dropout(x)\n",
    "        x = self.fc1(x)\n",
    "        x = F.relu(self.batch_norm(x))\n",
    "        x = self.dropout(x)\n",
    "        x = self.out(x)\n",
    "#         x = torch.softmax(x, dim=1)\n",
    "        return x"
   ]
  },
  {
   "cell_type": "markdown",
   "metadata": {},
   "source": [
    "__Question 4:__ Outline the steps you took to get to your final CNN architecture and your reasoning at each step.  "
   ]
  },
  {
   "cell_type": "markdown",
   "metadata": {},
   "source": [
    "__Answer:__ \n",
    "\n",
    "I struggled alot with the structure of the network and for a week was unable to get results better than 7% accuracy. With significant research and effort I was able to get sufficient accuracy by reducing the final filter size of the last convolutional layer to a small number like 7x7. \n",
    "\n",
    "Most networks I saw in the literature that were designed around simplicity used 3 convolutional layers, which I decided to replicate. I chose to reduce height and width through maxpooling, and in my research learned that batch normalization between convolutional layers can help the model converge, which I initially struggled with. At the end of the convolutional layers I included a 2 layer fully connected layer as a classifier to determine the final output of the network. My goal was to keep the network small in order to reduce complexity, improve training time and as we do not have an extremely large dataset for each of the species of dog.\n",
    "\n",
    "In the end my convergance issued resulted from the fact that my network was outputting the result of a softmax which I was feeding into the cross entropy loss function, which prefers raw output from the output layer. This resulted in increased error in the loss function and difficulty converging. After resolving that issue I was able to significantly improve the performance of the network."
   ]
  },
  {
   "cell_type": "markdown",
   "metadata": {},
   "source": [
    "### (IMPLEMENTATION) Specify Loss Function and Optimizer\n",
    "\n",
    "Use the next code cell to specify a [loss function](http://pytorch.org/docs/stable/nn.html#loss-functions) and [optimizer](http://pytorch.org/docs/stable/optim.html).  Save the chosen loss function as `criterion_scratch`, and the optimizer as `optimizer_scratch` below."
   ]
  },
  {
   "cell_type": "code",
   "execution_count": 18,
   "metadata": {},
   "outputs": [],
   "source": [
    "# instantiate the CNN\n",
    "model_scratch = Net()\n",
    "\n",
    "\n",
    "### TODO: select loss function\n",
    "criterion_scratch = nn.CrossEntropyLoss()\n",
    "\n",
    "### TODO: select optimizer\n",
    "optimizer_scratch = optim.Adam(model_scratch.parameters(), lr=0.00030)\n",
    "# optimizer_scratch = optim.SGD(params=model_scratch.parameters(), lr=0.1, momentum=0.8)\n",
    "\n",
    "# move tensors to GPU if CUDA is available\n",
    "if use_cuda:\n",
    "    model_scratch.cuda()\n",
    "    \n",
    "  \n",
    "loaders_scratch = {\"train\" : trainloader,\n",
    "                  \"valid\" : validloader,\n",
    "                  \"test\" : testloader}\n",
    "\n"
   ]
  },
  {
   "cell_type": "markdown",
   "metadata": {},
   "source": [
    "### (IMPLEMENTATION) Train and Validate the Model\n",
    "\n",
    "Train and validate your model in the code cell below.  [Save the final model parameters](http://pytorch.org/docs/master/notes/serialization.html) at filepath `'model_scratch.pt'`."
   ]
  },
  {
   "cell_type": "code",
   "execution_count": 19,
   "metadata": {},
   "outputs": [],
   "source": [
    "def save_scratch(model, gpu, checkpoint_name):    \n",
    "    #saving the model\n",
    "    torch.save(model.state_dict(), checkpoint_name)"
   ]
  },
  {
   "cell_type": "code",
   "execution_count": 20,
   "metadata": {},
   "outputs": [],
   "source": [
    "def train(n_epochs, loaders, model, optimizer, criterion, use_cuda, save_path, csv_path, optim_path):\n",
    "    # Load in a pre-trained checkpoint\n",
    "    #     if False:\n",
    "    print(f'{file_path}')\n",
    "    if os.path.isfile(file_path):\n",
    "        print(f'Pre-trained Checkpoint Found, Loading...')\n",
    "        model.load_state_dict(torch.load(file_path))\n",
    "        print(f'finished loading pre-trained checkpoint')\n",
    "    else:\n",
    "        print(f'No Pre-trained checkpoint found, continuing without')\n",
    "\n",
    "    # Load in a pre-trained optimizer\n",
    "    #     if False:\n",
    "    print(f'{optim_path}')\n",
    "    if os.path.isfile(optim_path):\n",
    "        print(f'Pre-trained Optimizer Found, Loading...')\n",
    "        optimizer.load_state_dict(torch.load(optim_path))\n",
    "        print(f'finished loading pre-trained checkpoint')\n",
    "    else:\n",
    "        print(f'No Pre-trained optimizer found, continuing without')\n",
    "\n",
    "    # Load in a prior training data\n",
    "    print(f'{csv_path}')\n",
    "    training_data = None\n",
    "    if os.path.isfile(csv_path):\n",
    "        print(f'Pre-trained Training Data Found, Loading...')\n",
    "        training_data = pd.read_csv(csv_path, index_col=0)\n",
    "        print(f'finished loading previous training data')\n",
    "    else:\n",
    "        print(f'No previous training data found, continuing without')\n",
    "        training_data = pd.DataFrame(columns = [\"epoch_number\", \"training_loss\", \"valid_loss\", \"valid_acc\"])\n",
    "\n",
    "\n",
    "#     #setup GDrive Saving\n",
    "#     #save somewhere where it's not going to disappear(Gdrive)\n",
    "#     from google.colab import drive\n",
    "#     drive.mount('/content/gdrive', force_remount= False)\n",
    "\n",
    "    \"\"\"returns trained model\"\"\"\n",
    "    # initialize tracker for minimum validation loss\n",
    "    valid_loss_min = np.Inf \n",
    "    past_epoch = 0\n",
    "    try:\n",
    "      past_epoch = int(training_data.iloc[-1]['epoch_number'])\n",
    "    except:\n",
    "      pass\n",
    "    start_epoch = max(past_epoch, 1)\n",
    "    end_epoch = start_epoch + n_epochs\n",
    "    for epoch in range(start_epoch+1, end_epoch+1):\n",
    "        # initialize variables to monitor training and validation loss\n",
    "        train_loss = 0.0\n",
    "        valid_loss = 0.0\n",
    "        val_acc = []\n",
    "        \n",
    "        ###################\n",
    "        # train the model #\n",
    "        ###################\n",
    "        model.train()\n",
    "        for batch_idx, (data, target) in tqdm(enumerate(loaders['train'])):\n",
    "            # move to GPU\n",
    "            if use_cuda:\n",
    "                data, target = data.cuda(), target.cuda()\n",
    "            ## find the loss and update the model parameters accordingly\n",
    "            optimizer.zero_grad()\n",
    "            out = model(data)\n",
    "            loss = criterion(out, target)\n",
    "            loss.backward()\n",
    "            optimizer.step()\n",
    "            train_loss += loss.item()\n",
    "            ## record the average training loss, using something like\n",
    "            ## train_loss = train_loss + ((1 / (batch_idx + 1)) * (loss.data - train_loss))\n",
    "        train_loss = train_loss * 1.0 / len(loaders['train'])    \n",
    "        ######################    \n",
    "        # validate the model #\n",
    "        ######################\n",
    "        model.eval()\n",
    "        for batch_idx, (data, target) in tqdm(enumerate(loaders['valid'])):\n",
    "            # move to GPU\n",
    "            if use_cuda:\n",
    "                data, target = data.cuda(), target.cuda()\n",
    "            ## update the average validation loss\n",
    "            out = model(data)\n",
    "            loss = criterion(out, target)\n",
    "            valid_loss += loss.item() \n",
    "            ps = F.softmax(out, dim=1)\n",
    "            top_p, top_k = ps.topk(1, dim=1)\n",
    "            correct = top_k == target.view(top_k.shape)\n",
    "            accuracy = torch.mean(correct.type(torch.cuda.FloatTensor))\n",
    "            val_acc.append(accuracy.item())\n",
    "            if batch_idx == len(loaders['valid'])-2:\n",
    "                print(f'top_k: {top_k}, target: {target} ')\n",
    "        \n",
    "        valid_loss = valid_loss * 1.0 / len(loaders['valid'])\n",
    "        # print training/validation statistics \n",
    "        print('\\nEpoch: {} \\tTraining Loss: {:.6f} \\tValidation Loss: {:.6f} \\tValidation Accuracy: {:.6f}'.format(\n",
    "            epoch, \n",
    "            train_loss,\n",
    "            valid_loss,\n",
    "            np.mean(val_acc)\n",
    "            ))\n",
    "        ######################    \n",
    "        # save the model #\n",
    "        ######################        \n",
    "        ## TODO: save the model if validation loss has decreased\n",
    "        if valid_loss < valid_loss_min:\n",
    "          valid_loss_min = valid_loss\n",
    "          print(f'\\n\\n SAVING NEW AND BETTER MODEL!')\n",
    "          save_scratch(model, use_cuda, save_path)\n",
    "          save_scratch(optimizer, use_cuda, optim_path)\n",
    "#         print(training_data)\n",
    "        training_data = training_data.append({\"epoch_number\" : epoch, \"training_loss\" : train_loss, \"valid_loss\" : valid_loss, \"valid_acc\" : np.mean(val_acc)}, ignore_index=True)\n",
    "#         print(training_data)\n",
    "        print(\"saving CSV of training data for posterity\\n\\n\")\n",
    "        training_data.to_csv(csv_path)\n",
    "#         !cp {csv_path} \"/content/gdrive/My Drive/{csv_path.split(\"/\")[-1]}\"\n",
    "#         !cp {project_path + file_path} \"/content/gdrive/My Drive/{file_path.split(\"/\")[-1]}\"\n",
    "    # return trained model\n",
    "    return model\n",
    "\n",
    "  \n"
   ]
  },
  {
   "cell_type": "code",
   "execution_count": 21,
   "metadata": {},
   "outputs": [
    {
     "name": "stdout",
     "output_type": "stream",
     "text": [
      "model_scratch_13_1.pt\n",
      "Pre-trained Checkpoint Found, Loading...\n"
     ]
    },
    {
     "name": "stderr",
     "output_type": "stream",
     "text": [
      "\r",
      "0it [00:00, ?it/s]"
     ]
    },
    {
     "name": "stdout",
     "output_type": "stream",
     "text": [
      "finished loading pre-trained checkpoint\n",
      "model_scratch_13_1.opt\n",
      "Pre-trained Optimizer Found, Loading...\n",
      "finished loading pre-trained checkpoint\n",
      "model_scratch_13_1.csv\n",
      "Pre-trained Training Data Found, Loading...\n",
      "finished loading previous training data\n"
     ]
    },
    {
     "name": "stderr",
     "output_type": "stream",
     "text": [
      "53it [02:04,  1.65s/it]\n",
      "6it [00:12,  2.05s/it]"
     ]
    },
    {
     "name": "stdout",
     "output_type": "stream",
     "text": [
      "top_k: tensor([[  56],\n",
      "        [  87],\n",
      "        [  86],\n",
      "        [  94],\n",
      "        [   5],\n",
      "        [  62],\n",
      "        [  31],\n",
      "        [  10],\n",
      "        [  53],\n",
      "        [  43],\n",
      "        [ 117],\n",
      "        [   5],\n",
      "        [  75],\n",
      "        [   4],\n",
      "        [  50],\n",
      "        [  43],\n",
      "        [ 129],\n",
      "        [  40],\n",
      "        [  58],\n",
      "        [  31],\n",
      "        [  20],\n",
      "        [  23],\n",
      "        [ 129],\n",
      "        [  26],\n",
      "        [  48],\n",
      "        [ 114],\n",
      "        [  97],\n",
      "        [  58],\n",
      "        [  75],\n",
      "        [  62],\n",
      "        [  38],\n",
      "        [   0],\n",
      "        [  81],\n",
      "        [  55],\n",
      "        [  32],\n",
      "        [  31],\n",
      "        [  22],\n",
      "        [ 100],\n",
      "        [  38],\n",
      "        [   4],\n",
      "        [  20],\n",
      "        [  14],\n",
      "        [  28],\n",
      "        [  28],\n",
      "        [  80],\n",
      "        [  59],\n",
      "        [ 130],\n",
      "        [  22],\n",
      "        [  18],\n",
      "        [  31],\n",
      "        [   2],\n",
      "        [  75],\n",
      "        [  83],\n",
      "        [  31],\n",
      "        [   0],\n",
      "        [  22],\n",
      "        [   4],\n",
      "        [  19],\n",
      "        [  55],\n",
      "        [  13],\n",
      "        [  75],\n",
      "        [  53],\n",
      "        [  85],\n",
      "        [  12],\n",
      "        [  28],\n",
      "        [  12],\n",
      "        [  71],\n",
      "        [  28],\n",
      "        [  21],\n",
      "        [  31],\n",
      "        [  16],\n",
      "        [  72],\n",
      "        [  86],\n",
      "        [   3],\n",
      "        [ 114],\n",
      "        [  38],\n",
      "        [  31],\n",
      "        [  14],\n",
      "        [  28],\n",
      "        [  14],\n",
      "        [  20],\n",
      "        [  16],\n",
      "        [  45],\n",
      "        [  34],\n",
      "        [  97],\n",
      "        [ 105],\n",
      "        [  28],\n",
      "        [  91],\n",
      "        [  76],\n",
      "        [ 129],\n",
      "        [  69],\n",
      "        [  27],\n",
      "        [  38],\n",
      "        [  51],\n",
      "        [  22],\n",
      "        [  80],\n",
      "        [  17],\n",
      "        [ 108],\n",
      "        [  71],\n",
      "        [   5],\n",
      "        [  13],\n",
      "        [  19],\n",
      "        [  43],\n",
      "        [  54],\n",
      "        [  18],\n",
      "        [  56],\n",
      "        [  15],\n",
      "        [  62],\n",
      "        [  70],\n",
      "        [   5],\n",
      "        [  86],\n",
      "        [  56],\n",
      "        [  86],\n",
      "        [  43],\n",
      "        [  91],\n",
      "        [  79],\n",
      "        [  74],\n",
      "        [  24],\n",
      "        [  46],\n",
      "        [  57],\n",
      "        [  28],\n",
      "        [  36],\n",
      "        [  29],\n",
      "        [  28],\n",
      "        [  79],\n",
      "        [  75],\n",
      "        [  11],\n",
      "        [  80]], device='cuda:0'), target: tensor([  94,    1,  130,  107,  100,   62,   64,   48,   75,   41,\n",
      "          13,    5,   53,    4,   37,   17,  129,   68,   27,   28,\n",
      "          92,   23,   36,   85,   69,   11,   97,   68,  132,   30,\n",
      "         112,    0,   93,  105,   76,   28,   79,   48,   38,   78,\n",
      "          67,   13,   42,   90,   98,   59,   61,   22,   93,   28,\n",
      "         111,   66,    3,   31,   68,   63,    9,   97,   21,   13,\n",
      "           2,  116,   69,  106,  128,  110,  130,   55,  128,   52,\n",
      "           1,  130,   74,   47,   53,   94,  127,   44,  115,   14,\n",
      "          20,   81,   13,   87,   49,   54,  105,   91,   76,  129,\n",
      "          69,   10,    7,   51,   45,   88,   24,  108,   71,    5,\n",
      "          82,   24,   95,   87,  109,   56,  125,   90,   19,  107,\n",
      "          97,   56,   46,  124,   91,   34,   96,   71,   46,   57,\n",
      "           4,   84,  110,   28,   22,   52,   44,   31], device='cuda:0') \n"
     ]
    },
    {
     "name": "stderr",
     "output_type": "stream",
     "text": [
      "7it [00:13,  1.69s/it]\n",
      "0it [00:00, ?it/s]"
     ]
    },
    {
     "name": "stdout",
     "output_type": "stream",
     "text": [
      "\n",
      "Epoch: 122 \tTraining Loss: 3.478941 \tValidation Loss: 3.240065 \tValidation Accuracy: 0.194413\n",
      "\n",
      "\n",
      " SAVING NEW AND BETTER MODEL!\n",
      "saving CSV of training data for posterity\n",
      "\n",
      "\n"
     ]
    },
    {
     "name": "stderr",
     "output_type": "stream",
     "text": [
      "53it [01:48,  1.68s/it]\n",
      "6it [00:10,  1.79s/it]"
     ]
    },
    {
     "name": "stdout",
     "output_type": "stream",
     "text": [
      "top_k: tensor([[ 100],\n",
      "        [  16],\n",
      "        [  86],\n",
      "        [ 102],\n",
      "        [  35],\n",
      "        [  22],\n",
      "        [  81],\n",
      "        [ 102],\n",
      "        [  85],\n",
      "        [  26],\n",
      "        [  22],\n",
      "        [  62],\n",
      "        [  21],\n",
      "        [  20],\n",
      "        [ 123],\n",
      "        [ 126],\n",
      "        [  45],\n",
      "        [  83],\n",
      "        [  66],\n",
      "        [  30],\n",
      "        [  79],\n",
      "        [  61],\n",
      "        [ 116],\n",
      "        [  82],\n",
      "        [  48],\n",
      "        [  18],\n",
      "        [ 116],\n",
      "        [  13],\n",
      "        [  14],\n",
      "        [  38],\n",
      "        [   4],\n",
      "        [   4],\n",
      "        [  11],\n",
      "        [  77],\n",
      "        [  58],\n",
      "        [  14],\n",
      "        [ 126],\n",
      "        [  54],\n",
      "        [ 108],\n",
      "        [   2],\n",
      "        [  82],\n",
      "        [  71],\n",
      "        [ 106],\n",
      "        [  57],\n",
      "        [   2],\n",
      "        [  51],\n",
      "        [ 111],\n",
      "        [  14],\n",
      "        [  20],\n",
      "        [  42],\n",
      "        [  86],\n",
      "        [  79],\n",
      "        [  20],\n",
      "        [  43],\n",
      "        [ 108],\n",
      "        [  31],\n",
      "        [  83],\n",
      "        [  11],\n",
      "        [  69],\n",
      "        [  62],\n",
      "        [ 126],\n",
      "        [  83],\n",
      "        [ 108],\n",
      "        [  40],\n",
      "        [  70],\n",
      "        [ 126],\n",
      "        [  40],\n",
      "        [  32],\n",
      "        [  21],\n",
      "        [  30],\n",
      "        [  69],\n",
      "        [  43],\n",
      "        [  93],\n",
      "        [  13],\n",
      "        [  57],\n",
      "        [  75],\n",
      "        [  74],\n",
      "        [  56],\n",
      "        [   0],\n",
      "        [   0],\n",
      "        [  20],\n",
      "        [  14],\n",
      "        [ 108],\n",
      "        [  34],\n",
      "        [  72],\n",
      "        [  49],\n",
      "        [  29],\n",
      "        [ 114],\n",
      "        [  43],\n",
      "        [  22],\n",
      "        [ 114],\n",
      "        [ 119],\n",
      "        [  15],\n",
      "        [  75],\n",
      "        [  19],\n",
      "        [  15],\n",
      "        [  38],\n",
      "        [  58],\n",
      "        [  23],\n",
      "        [  32],\n",
      "        [  75],\n",
      "        [  10],\n",
      "        [  38],\n",
      "        [  20],\n",
      "        [  14],\n",
      "        [  75],\n",
      "        [  74],\n",
      "        [  96],\n",
      "        [  13],\n",
      "        [  58],\n",
      "        [  19],\n",
      "        [ 104],\n",
      "        [  31],\n",
      "        [  75],\n",
      "        [  15],\n",
      "        [  46],\n",
      "        [  17],\n",
      "        [  74],\n",
      "        [  97],\n",
      "        [  43],\n",
      "        [  58],\n",
      "        [  88],\n",
      "        [  31],\n",
      "        [  81],\n",
      "        [  55],\n",
      "        [  31],\n",
      "        [  22],\n",
      "        [  54]], device='cuda:0'), target: tensor([  98,   91,   86,   40,   37,   45,   78,   43,   85,    2,\n",
      "          22,   10,   21,   20,   25,   75,   63,    3,  111,   83,\n",
      "          64,   99,   53,   42,   71,  112,   81,  109,   13,  112,\n",
      "           4,  118,   44,   39,   17,   14,  126,   34,   10,   19,\n",
      "          82,   71,  118,   98,  111,   51,   15,   14,  105,   38,\n",
      "          86,   79,   60,   71,   28,   63,  117,  125,  101,   84,\n",
      "          70,    3,   78,   33,   47,  113,   26,   34,   97,    5,\n",
      "          80,   43,   18,  109,   55,   60,   18,  121,   87,  103,\n",
      "          20,   69,   91,    1,   72,   95,   29,   11,   83,  128,\n",
      "          55,   75,   15,   66,   81,   15,   31,   55,  112,    0,\n",
      "         132,   10,    9,  105,   37,    6,   48,   54,    7,  101,\n",
      "          21,  104,   20,   89,   15,   40,   17,   57,    4,   84,\n",
      "          17,   41,   28,  107,    7,  121,   22,   34], device='cuda:0') \n"
     ]
    },
    {
     "name": "stderr",
     "output_type": "stream",
     "text": [
      "\r",
      "7it [00:11,  1.48s/it]"
     ]
    },
    {
     "name": "stdout",
     "output_type": "stream",
     "text": [
      "\n",
      "Epoch: 123 \tTraining Loss: 3.457028 \tValidation Loss: 3.211545 \tValidation Accuracy: 0.201826\n",
      "\n",
      "\n",
      " SAVING NEW AND BETTER MODEL!\n",
      "saving CSV of training data for posterity\n",
      "\n",
      "\n"
     ]
    },
    {
     "name": "stderr",
     "output_type": "stream",
     "text": [
      "\n"
     ]
    }
   ],
   "source": [
    "from workspace_utils import active_session\n",
    "# train the model\n",
    "with active_session():\n",
    "    model_scratch = train(2, loaders_scratch, model_scratch, optimizer_scratch, \n",
    "                          criterion_scratch, use_cuda, file_path, csv_path, optim_path)\n",
    "\n",
    "\n",
    "# load the model that got the best validation accuracy\n",
    "# model_scratch.load_state_dict(torch.load(project_path + file_path))"
   ]
  },
  {
   "cell_type": "code",
   "execution_count": null,
   "metadata": {},
   "outputs": [],
   "source": [
    "model_scratch = Net()\n",
    "\n",
    "### TODO: select loss function\n",
    "criterion_scratch = nn.CrossEntropyLoss()\n",
    "\n",
    "### TODO: select optimizer\n",
    "optimizer_scratch = optim.Adam(model_scratch.parameters(), lr=0.000030)\n",
    "\n",
    "\n",
    "# move tensors to GPU if CUDA is available\n",
    "if use_cuda:\n",
    "    model_scratch.cuda()\n",
    "    \n",
    "# load the model that got the best validation accuracy\n",
    "model_scratch.load_state_dict(torch.load(file_path))\n",
    "\n",
    "loaders_scratch = {\"train\" : trainloader,\n",
    "                  \"valid\" : validloader,\n",
    "                  \"test\" : testloader}"
   ]
  },
  {
   "cell_type": "markdown",
   "metadata": {},
   "source": [
    "### (IMPLEMENTATION) Test the Model\n",
    "\n",
    "Try out your model on the test dataset of dog images.  Use the code cell below to calculate and print the test loss and accuracy.  Ensure that your test accuracy is greater than 10%."
   ]
  },
  {
   "cell_type": "code",
   "execution_count": 22,
   "metadata": {},
   "outputs": [],
   "source": [
    "def test(loaders, model, criterion, use_cuda):\n",
    "\n",
    "    # monitor test loss and accuracy\n",
    "    test_loss = 0.\n",
    "    correct = 0.\n",
    "    total = 0.\n",
    "\n",
    "    model.eval()\n",
    "    for batch_idx, (data, target) in enumerate(loaders['test']):\n",
    "        # move to GPU\n",
    "        if use_cuda:\n",
    "            data, target = data.cuda(), target.cuda()\n",
    "        # forward pass: compute predicted outputs by passing inputs to the model\n",
    "        output = model(data)\n",
    "        # calculate the loss\n",
    "        loss = criterion(output, target)\n",
    "        # update average test loss \n",
    "        test_loss = test_loss + ((1 / (batch_idx + 1)) * (loss.data - test_loss))\n",
    "        # convert output probabilities to predicted class\n",
    "        pred = output.data.max(1, keepdim=True)[1]\n",
    "        # compare predictions to true label\n",
    "        correct += np.sum(np.squeeze(pred.eq(target.data.view_as(pred))).cpu().numpy())\n",
    "        total += data.size(0)\n",
    "            \n",
    "    print('Test Loss: {:.6f}\\n'.format(test_loss))\n",
    "\n",
    "    print('\\nTest Accuracy: %2d%% (%2d/%2d)' % (\n",
    "        100. * correct / total, correct, total))\n"
   ]
  },
  {
   "cell_type": "code",
   "execution_count": 23,
   "metadata": {},
   "outputs": [
    {
     "name": "stdout",
     "output_type": "stream",
     "text": [
      "Test Loss: 3.175433\n",
      "\n",
      "\n",
      "Test Accuracy: 24% (206/836)\n"
     ]
    }
   ],
   "source": [
    "# call test function    \n",
    "test(loaders_scratch, model_scratch, criterion_scratch, use_cuda)"
   ]
  },
  {
   "cell_type": "markdown",
   "metadata": {},
   "source": [
    "---\n",
    "<a id='step4'></a>\n",
    "## Step 4: Create a CNN to Classify Dog Breeds (using Transfer Learning)\n",
    "\n",
    "You will now use transfer learning to create a CNN that can identify dog breed from images.  Your CNN must attain at least 60% accuracy on the test set.\n",
    "\n",
    "### (IMPLEMENTATION) Specify Data Loaders for the Dog Dataset\n",
    "\n",
    "Use the code cell below to write three separate [data loaders](http://pytorch.org/docs/master/data.html#torch.utils.data.DataLoader) for the training, validation, and test datasets of dog images (located at `dogImages/train`, `dogImages/valid`, and `dogImages/test`, respectively). \n",
    "\n",
    "If you like, **you are welcome to use the same data loaders from the previous step**, when you created a CNN from scratch."
   ]
  },
  {
   "cell_type": "code",
   "execution_count": 24,
   "metadata": {},
   "outputs": [],
   "source": [
    "from torchvision import datasets, transforms\n",
    "import torch.nn as nn\n",
    "import torch.nn.functional as F\n",
    "import torch.optim as optim\n",
    "import torch\n",
    "import numpy as np\n",
    "import os\n",
    "import pandas as pd\n",
    "\n",
    "from tqdm import tqdm\n",
    "# from https://stackoverflow.com/questions/12984426/python-pil-ioerror-image-file-truncated-with-big-images \n",
    "# to deal with truncated images\n",
    "from PIL import ImageFile\n",
    "ImageFile.LOAD_TRUNCATED_IMAGES = True\n",
    "\n",
    "\n",
    "project_path = \"/content/deep-learning-v2-pytorch/project-dog-classification/\"\n",
    "version_number = \"01_3\"\n",
    "file_path = \"model_transfer_\" + version_number + \".pt\"\n",
    "\n",
    "csv_path = file_path.split(\".\")[0] + \".csv\"\n",
    "optim_path = file_path.split(\".\")[0] + \".opt\""
   ]
  },
  {
   "cell_type": "code",
   "execution_count": 25,
   "metadata": {},
   "outputs": [
    {
     "name": "stdout",
     "output_type": "stream",
     "text": [
      "Loading Data...\n",
      "Defining Transforms\n",
      "Creating Datasets \n"
     ]
    }
   ],
   "source": [
    "## TODO: Specify data loaders\n",
    "batch_size = 64\n",
    "\n",
    "print(f'Loading Data...')\n",
    "train_dir = '/data/dog_images/train'\n",
    "valid_dir = '/data/dog_images/valid'\n",
    "test_dir = '/data/dog_images/test'\n",
    "\n",
    "\n",
    "#Define the transforms for the training, validation, and testing sets\n",
    "print(f'Defining Transforms')\n",
    "train_transforms = transforms.Compose([transforms.RandomRotation(20),\n",
    "                                   transforms.RandomResizedCrop(299),\n",
    "                                   transforms.RandomHorizontalFlip(),\n",
    "                                   transforms.ToTensor(),\n",
    "                                   transforms.Normalize([0.485, 0.456, 0.406],\n",
    "                                                        [0.229, 0.224, 0.225])])\n",
    "\n",
    "valid_transforms = transforms.Compose([transforms.Resize((299,299)),\n",
    "                                  transforms.CenterCrop(299),\n",
    "                                  transforms.ToTensor(),\n",
    "                                  transforms.Normalize([0.485, 0.456, 0.406],\n",
    "                                                       [0.229, 0.224, 0.225])])\n",
    "\n",
    "test_transforms = transforms.Compose([transforms.Resize((299,299)),\n",
    "                                  transforms.CenterCrop(299),\n",
    "                                  transforms.ToTensor(),\n",
    "                                  transforms.Normalize([0.485, 0.456, 0.406],\n",
    "                                                       [0.229, 0.224, 0.225])])\n",
    "print(f'Creating Datasets ')\n",
    "#Load the datasets with ImageFolder\n",
    "train_data = datasets.ImageFolder(train_dir, transform=train_transforms)\n",
    "test_data = datasets.ImageFolder(test_dir, transform=test_transforms)\n",
    "valid_data = datasets.ImageFolder(valid_dir, transform=valid_transforms)\n",
    "\n",
    "\n",
    "trainloader = torch.utils.data.DataLoader(train_data, batch_size=batch_size, shuffle=True)\n",
    "testloader = torch.utils.data.DataLoader(test_data, batch_size=batch_size, shuffle=True)\n",
    "validloader = torch.utils.data.DataLoader(valid_data, batch_size=batch_size, shuffle=True)\n"
   ]
  },
  {
   "cell_type": "markdown",
   "metadata": {},
   "source": [
    "### (IMPLEMENTATION) Model Architecture\n",
    "\n",
    "Use transfer learning to create a CNN to classify dog breed.  Use the code cell below, and save your initialized model as the variable `model_transfer`."
   ]
  },
  {
   "cell_type": "code",
   "execution_count": 26,
   "metadata": {},
   "outputs": [
    {
     "name": "stderr",
     "output_type": "stream",
     "text": [
      "Downloading: \"https://download.pytorch.org/models/inception_v3_google-1a9a5a14.pth\" to /root/.torch/models/inception_v3_google-1a9a5a14.pth\n",
      "100%|██████████| 108857766/108857766 [00:01<00:00, 84755378.46it/s]\n"
     ]
    }
   ],
   "source": [
    "import torchvision.models as models\n",
    "import torch.nn as nn\n",
    "\n",
    "## TODO: Specify model architecture \n",
    "model_transfer = models.inception_v3(pretrained=True)"
   ]
  },
  {
   "cell_type": "code",
   "execution_count": 27,
   "metadata": {},
   "outputs": [],
   "source": [
    "for param in model_transfer.parameters():\n",
    "  param.requires_grad = False\n"
   ]
  },
  {
   "cell_type": "code",
   "execution_count": 28,
   "metadata": {},
   "outputs": [],
   "source": [
    "model_transfer.fc = nn.Linear(2048, 133)\n",
    "model_transfer.aux_logits=False\n"
   ]
  },
  {
   "cell_type": "code",
   "execution_count": 29,
   "metadata": {},
   "outputs": [],
   "source": [
    "if use_cuda:\n",
    "    model_transfer = model_transfer.cuda()"
   ]
  },
  {
   "cell_type": "markdown",
   "metadata": {},
   "source": [
    "__Question 5:__ Outline the steps you took to get to your final CNN architecture and your reasoning at each step.  Describe why you think the architecture is suitable for the current problem."
   ]
  },
  {
   "cell_type": "markdown",
   "metadata": {},
   "source": [
    "__Answer:__ \n",
    "\n",
    "InceptionV3 is a network which has performed very well in the imagenet competition. Initially I wanted to start with the simplest possibile tranfer learning network and so I setup inceptionV3 and simply replaced the final fully connected layer with a fully connected layer with the appropriate number of outputs. I applied the adam optimizer only to the final fully connected layer as I didn't want to change the weights in the existinging network, only in the classifier. This structure should retain all the feature detection capabilities of InceptionV3 while being able to train a classifier on those features to identify species of dog well."
   ]
  },
  {
   "cell_type": "markdown",
   "metadata": {},
   "source": [
    "### (IMPLEMENTATION) Specify Loss Function and Optimizer\n",
    "\n",
    "Use the next code cell to specify a [loss function](http://pytorch.org/docs/master/nn.html#loss-functions) and [optimizer](http://pytorch.org/docs/master/optim.html).  Save the chosen loss function as `criterion_transfer`, and the optimizer as `optimizer_transfer` below."
   ]
  },
  {
   "cell_type": "code",
   "execution_count": 30,
   "metadata": {},
   "outputs": [],
   "source": [
    "criterion_transfer = nn.CrossEntropyLoss()\n",
    "optimizer_transfer = optim.Adam(model_transfer.fc.parameters(), lr=0.000030)"
   ]
  },
  {
   "cell_type": "markdown",
   "metadata": {},
   "source": [
    "### (IMPLEMENTATION) Train and Validate the Model\n",
    "\n",
    "Train and validate your model in the code cell below.  [Save the final model parameters](http://pytorch.org/docs/master/notes/serialization.html) at filepath `'model_transfer.pt'`."
   ]
  },
  {
   "cell_type": "code",
   "execution_count": 31,
   "metadata": {
    "scrolled": true
   },
   "outputs": [
    {
     "name": "stdout",
     "output_type": "stream",
     "text": [
      "model_transfer_01_3.pt\n",
      "Pre-trained Checkpoint Found, Loading...\n"
     ]
    },
    {
     "name": "stderr",
     "output_type": "stream",
     "text": [
      "\r",
      "0it [00:00, ?it/s]"
     ]
    },
    {
     "name": "stdout",
     "output_type": "stream",
     "text": [
      "finished loading pre-trained checkpoint\n",
      "model_transfer_01_3.opt\n",
      "Pre-trained Optimizer Found, Loading...\n",
      "finished loading pre-trained checkpoint\n",
      "model_transfer_01_3.csv\n",
      "Pre-trained Training Data Found, Loading...\n",
      "finished loading previous training data\n"
     ]
    },
    {
     "name": "stderr",
     "output_type": "stream",
     "text": [
      "105it [03:07,  1.37s/it]\n",
      "14it [00:22,  1.25s/it]"
     ]
    },
    {
     "name": "stdout",
     "output_type": "stream",
     "text": [
      "top_k: tensor([[ 112],\n",
      "        [  13],\n",
      "        [  89],\n",
      "        [  81],\n",
      "        [  26],\n",
      "        [  61],\n",
      "        [  55],\n",
      "        [  46],\n",
      "        [  27],\n",
      "        [  27],\n",
      "        [  58],\n",
      "        [  62],\n",
      "        [  22],\n",
      "        [   4],\n",
      "        [  87],\n",
      "        [  62],\n",
      "        [   0],\n",
      "        [  14],\n",
      "        [   4],\n",
      "        [  86],\n",
      "        [   1],\n",
      "        [  64],\n",
      "        [  71],\n",
      "        [  51],\n",
      "        [  91],\n",
      "        [  88],\n",
      "        [  90],\n",
      "        [  28],\n",
      "        [ 132],\n",
      "        [  22],\n",
      "        [  51],\n",
      "        [  31],\n",
      "        [  62],\n",
      "        [  40],\n",
      "        [  88],\n",
      "        [  34],\n",
      "        [ 103],\n",
      "        [  55],\n",
      "        [  86],\n",
      "        [  40],\n",
      "        [  78],\n",
      "        [  10],\n",
      "        [  24],\n",
      "        [  66],\n",
      "        [  71],\n",
      "        [  54],\n",
      "        [  67],\n",
      "        [  24],\n",
      "        [ 126],\n",
      "        [  40],\n",
      "        [  31],\n",
      "        [  73],\n",
      "        [  21],\n",
      "        [  46],\n",
      "        [  38],\n",
      "        [  30],\n",
      "        [  22],\n",
      "        [  35],\n",
      "        [  80],\n",
      "        [  26],\n",
      "        [  26],\n",
      "        [  71],\n",
      "        [ 117],\n",
      "        [ 126]], device='cuda:0'), target: tensor([ 113,  115,   89,   81,   26,   61,  129,   46,   27,   27,\n",
      "          58,   34,   22,    4,   87,   36,    0,   14,    4,   86,\n",
      "           1,   64,   71,   51,   91,   67,   90,   28,  132,   11,\n",
      "          51,   68,   62,  102,   88,    8,  103,   55,   86,   39,\n",
      "          94,   10,   24,   66,   72,   54,   67,   24,  126,   40,\n",
      "          39,   41,   21,   95,   38,   30,   22,  113,   80,   26,\n",
      "          26,   71,  117,  126], device='cuda:0') \n",
      "\n",
      "Epoch: 18 \tTraining Loss: 2.819001 \tValidation Loss: 2.532261 \tValidation Accuracy: 0.722470\n",
      "\n",
      "\n",
      " SAVING NEW AND BETTER MODEL!\n"
     ]
    },
    {
     "name": "stderr",
     "output_type": "stream",
     "text": [
      "\n"
     ]
    },
    {
     "name": "stdout",
     "output_type": "stream",
     "text": [
      "saving CSV of training data for posterity\n",
      "\n",
      "\n"
     ]
    }
   ],
   "source": [
    "with active_session():\n",
    "    # train the model\n",
    "    n_epochs = 1\n",
    "    loaders_transfer = {\"train\" : trainloader,\n",
    "                      \"valid\" : validloader,\n",
    "                      \"test\" : testloader}\n",
    "\n",
    "\n",
    "    model_transfer = train(n_epochs, loaders_transfer, model_transfer, optimizer_transfer, criterion_transfer, use_cuda, file_path, csv_path, optim_path)\n",
    "\n",
    "    # load the model that got the best validation accuracy (uncomment the line below)\n",
    "    #model_transfer.load_state_dict(torch.load('model_transfer.pt'))"
   ]
  },
  {
   "cell_type": "markdown",
   "metadata": {},
   "source": [
    "### (IMPLEMENTATION) Test the Model\n",
    "\n",
    "Try out your model on the test dataset of dog images. Use the code cell below to calculate and print the test loss and accuracy.  Ensure that your test accuracy is greater than 60%."
   ]
  },
  {
   "cell_type": "code",
   "execution_count": 32,
   "metadata": {},
   "outputs": [
    {
     "name": "stdout",
     "output_type": "stream",
     "text": [
      "Test Loss: 2.510959\n",
      "\n",
      "\n",
      "Test Accuracy: 72% (607/836)\n"
     ]
    }
   ],
   "source": [
    "test(loaders_transfer, model_transfer, criterion_transfer, use_cuda)"
   ]
  },
  {
   "cell_type": "markdown",
   "metadata": {},
   "source": [
    "### (IMPLEMENTATION) Predict Dog Breed with the Model\n",
    "\n",
    "Write a function that takes an image path as input and returns the dog breed (`Affenpinscher`, `Afghan hound`, etc) that is predicted by your model.  "
   ]
  },
  {
   "cell_type": "code",
   "execution_count": 66,
   "metadata": {},
   "outputs": [],
   "source": [
    "### TODO: Write a function that takes a path to an image as input\n",
    "### and returns the dog breed that is predicted by the model.\n",
    "\n",
    "# list of class names by index, i.e. a name can be accessed like class_names[0]\n",
    "# class_names = [item[4:].replace(\"_\", \" \") for item in data_transfer['train'].classes]\n",
    "\n",
    "InceptionV3_transform = transforms.Compose([transforms.Resize((299,299)),\n",
    "                                  transforms.CenterCrop(299),\n",
    "                                  transforms.ToTensor(),\n",
    "                                  transforms.Normalize([0.485, 0.456, 0.406],\n",
    "                                                       [0.229, 0.224, 0.225])])\n",
    "\n",
    "def predict_breed_transfer(img_path):\n",
    "    # load the image and return the predicted breed\n",
    "    img = Image.open(img_path)\n",
    "    img = InceptionV3_transform(img).float()\n",
    "    img = torch.autograd.Variable(img, requires_grad=False)\n",
    "    img = img.unsqueeze(0)\n",
    "    img = img.cuda()\n",
    "    out = model_transfer(img)\n",
    "    ps = F.softmax(out, dim=1)\n",
    "    top_p, top_k = ps.topk(1, dim=1)\n",
    "    top_k = top_k.view(-1,)\n",
    "    return train_data.classes[top_k][4:] # predicted class index"
   ]
  },
  {
   "cell_type": "markdown",
   "metadata": {},
   "source": [
    "---\n",
    "<a id='step5'></a>\n",
    "## Step 5: Write your Algorithm\n",
    "\n",
    "Write an algorithm that accepts a file path to an image and first determines whether the image contains a human, dog, or neither.  Then,\n",
    "- if a __dog__ is detected in the image, return the predicted breed.\n",
    "- if a __human__ is detected in the image, return the resembling dog breed.\n",
    "- if __neither__ is detected in the image, provide output that indicates an error.\n",
    "\n",
    "You are welcome to write your own functions for detecting humans and dogs in images, but feel free to use the `face_detector` and `human_detector` functions developed above.  You are __required__ to use your CNN from Step 4 to predict dog breed.  \n",
    "\n",
    "Some sample output for our algorithm is provided below, but feel free to design your own user experience!\n",
    "\n",
    "![Sample Human Output](images/sample_human_output.png)\n",
    "\n",
    "\n",
    "### (IMPLEMENTATION) Write your Algorithm"
   ]
  },
  {
   "cell_type": "code",
   "execution_count": 96,
   "metadata": {},
   "outputs": [],
   "source": [
    "### TODO: Write your algorithm.\n",
    "### Feel free to use as many code cells as needed.\n",
    "\n",
    "def run_app(img_path):\n",
    "    ## handle cases for a human face, dog, and neither\n",
    "    print(\"\\n\")\n",
    "    has_dog = False\n",
    "    has_human = False\n",
    "    label = predict_breed_transfer(img_path)\n",
    "    if dog_detector(img_path):\n",
    "        has_dog = True\n",
    "        print(f'It\\'s a dog!\\nPredicted Breed is: {label}')\n",
    "        #TODO return breed\n",
    "      \n",
    "    if face_detector(img_path):\n",
    "        has_human = True\n",
    "        print(f'It\\'s a person!\\nThis person looks like a: {label}')\n",
    "      #TODO return breed\n",
    "    if (not has_dog and not has_human):\n",
    "      print(\"There may be a mistake, there are neither dogs nor humans in this image\")\n",
    "    return label\n",
    "    "
   ]
  },
  {
   "cell_type": "markdown",
   "metadata": {},
   "source": [
    "---\n",
    "<a id='step6'></a>\n",
    "## Step 6: Test Your Algorithm\n",
    "\n",
    "In this section, you will take your new algorithm for a spin!  What kind of dog does the algorithm think that _you_ look like?  If you have a dog, does it predict your dog's breed accurately?  If you have a cat, does it mistakenly think that your cat is a dog?\n",
    "\n",
    "### (IMPLEMENTATION) Test Your Algorithm on Sample Images!\n",
    "\n",
    "Test your algorithm at least six images on your computer.  Feel free to use any images you like.  Use at least two human and two dog images.  \n",
    "\n",
    "__Question 6:__ Is the output better than you expected :) ?  Or worse :( ?  Provide at least three possible points of improvement for your algorithm."
   ]
  },
  {
   "cell_type": "markdown",
   "metadata": {},
   "source": [
    "__Answer:__ \n",
    "\n",
    "The output is about what I expected. I don't know dog breeds too well so the degree to which humans represent those particular breed is beyond my ability to comment. The accuracy on other dog breeds seem to be okay. It does not identify Scooby-Doo as a dog so I think that's probably good for the algorithm. The algorithm also identifies a portrait of a person which I think is pretty good.\n",
    "\n",
    "1. Improving the facial detection algorithm - The CV2 algorithm is pretty good, but is not 100%. I feel that an algorithm based on deep learning would be particularly effictive at this task and, had it not taken me a week to troubleshoot my scratch network for breed detection, may have taken a shot at trying to improve those results.\n",
    "\n",
    "2. Visualising the results - I did not invest much time in having the images shown with the predicted and actual results shown in a way that is particularly intuitive to interpret during training and testing.\n",
    "\n",
    "3. Confusion matrix to improve results - Were I to try and maximize the accuracy of each network I would want to build a confusion matrix to see what each of the predictions is being mistaken as, that way I could go find more images of those categories in order to improve the results in a directed manner."
   ]
  },
  {
   "cell_type": "code",
   "execution_count": 106,
   "metadata": {},
   "outputs": [
    {
     "name": "stdout",
     "output_type": "stream",
     "text": [
      "\n",
      "\n",
      "It's a person!\n",
      "This person looks like a: Bull_terrier\n",
      "/home/workspace/dog_project/test_images/18-0090-06.jpg\n",
      "\n",
      "\n",
      "There may be a mistake, there are neither dogs nor humans in this image\n",
      "/home/workspace/dog_project/test_images/scooby-famous-dog.-14329.jpg\n",
      "\n",
      "\n",
      "It's a person!\n",
      "This person looks like a: Bull_terrier\n",
      "/home/workspace/dog_project/test_images/18-0090-10.jpg\n",
      "\n",
      "\n",
      "It's a dog!\n",
      "Predicted Breed is: Golden_retriever\n",
      "/home/workspace/dog_project/test_images/famous-dogs-in-history.jpg\n",
      "\n",
      "\n",
      "It's a person!\n",
      "This person looks like a: Maltese\n",
      "/home/workspace/dog_project/test_images/3293faaa.jpg\n",
      "\n",
      "\n",
      "It's a dog!\n",
      "Predicted Breed is: Collie\n",
      "/home/workspace/dog_project/test_images/famous-hollywood-stars-and-other-famous-dogs-in-history-10-pictures-6.jpg\n"
     ]
    },
    {
     "data": {
      "image/png": "[encoded data removed]",
      "text/plain": [
       "<matplotlib.figure.Figure at 0x7f7912170cf8>"
      ]
     },
     "metadata": {},
     "output_type": "display_data"
    }
   ],
   "source": [
    "## TODO: Execute your algorithm from Step 6 on\n",
    "## at least 6 images on your computer.\n",
    "## Feel free to use as many code cells as needed.\n",
    "from matplotlib import pyplot as plt\n",
    "import matplotlib.image as mpimg\n",
    "\n",
    "# def imshow(img):\n",
    "#   img = img / 2 + 0.5\n",
    "#   plt.imshow(np.transpose(img, (1, 2, 0)))\n",
    "\n",
    "# images, labels = iter(trainLoader).next()\n",
    "# images = images.numpy()\n",
    "# for idx in np.arange(20):\n",
    "#   ax = fig.add_subplot(2, 20/2, idx+1, xticks=[], yticks=[])\n",
    "#   imshow(images[idx])\n",
    "#   ax.set_title(classes[labels[idx]])\n",
    "\n",
    "\n",
    "fig = plt.figure(figsize=(20,4))\n",
    "\n",
    "classes = {\"scooby-famous-dog.-14329.jpg\" : \"dog\",\n",
    "          \"18-0090-10.jpg\" : \"person\",\n",
    "          \"18-0090-06.jpg\" : \"person\",\n",
    "          \"famous-dogs-in-history.jpg\" : \"dog\",\n",
    "          \"3293faaa.jpg\" : \"person\",\n",
    "          \"famous-hollywood-stars-and-other-famous-dogs-in-history-10-pictures-6.jpg\" : \"dog\",\n",
    "           \n",
    "          }\n",
    "# build a rectangle in axes coords\n",
    "left, width = .25, .5\n",
    "bottom, height = .25, .5\n",
    "right = left + width\n",
    "top = bottom + height\n",
    "\n",
    "## suggested code, below\n",
    "for idx, file in enumerate(os.listdir(\"test_images\")):\n",
    "    path = \"/home/workspace/dog_project/test_images/\" + file\n",
    "    ax = fig.add_subplot(2, 20/2, idx+1, xticks=[], yticks=[])\n",
    "    img = mpimg.imread(path)\n",
    "    plt.imshow(img)\n",
    "    ax.set_title(classes[file])\n",
    "    label = run_app(path)\n",
    "    ax.text(0.5*(left+right), -0.15, label,\n",
    "        horizontalalignment='center',\n",
    "        verticalalignment='center',\n",
    "        fontsize=14, color='red',\n",
    "        transform=ax.transAxes)\n",
    "    print(path)\n",
    "    \n",
    "    "
   ]
  },
  {
   "cell_type": "code",
   "execution_count": null,
   "metadata": {},
   "outputs": [],
   "source": []
  }
 ],
 "metadata": {
  "anaconda-cloud": {},
  "kernelspec": {
   "display_name": "Python 3",
   "language": "python",
   "name": "python3"
  },
  "language_info": {
   "codemirror_mode": {
    "name": "ipython",
    "version": 3
   },
   "file_extension": ".py",
   "mimetype": "text/x-python",
   "name": "python",
   "nbconvert_exporter": "python",
   "pygments_lexer": "ipython3",
   "version": "3.6.3"
  }
 },
 "nbformat": 4,
 "nbformat_minor": 1
}
